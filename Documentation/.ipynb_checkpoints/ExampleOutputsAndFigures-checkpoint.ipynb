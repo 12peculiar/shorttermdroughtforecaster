{
 "cells": [
  {
   "cell_type": "markdown",
   "metadata": {},
   "source": [
    "# Ecological Indicators\n",
    "\n",
    "## Probability of Establishment after Seeding (Shriver et al. 2018)\n"
   ]
  },
  {
   "cell_type": "code",
   "execution_count": null,
   "metadata": {},
   "outputs": [],
   "source": [
    "source('../functions/ecoIndicators.R')\n",
    "source('../figureCode/presentationFigs/Temperature.R')\n",
    "\n",
    "source('../figureCode/presentationFigs/precipitation.R')\n",
    "source('../figureCode/presentationFigs/VWC.R')\n"
   ]
  },
  {
   "cell_type": "markdown",
   "metadata": {},
   "source": [
    "The *future* output data is consolidated by first taking the mean of each y (run 30 times), then calculating the rolling mean, and finally calculating the median, 10%, and 90% quantiles across the dataset."
   ]
  }
 ],
 "metadata": {
  "kernelspec": {
   "display_name": "R",
   "language": "R",
   "name": "ir"
  },
  "language_info": {
   "codemirror_mode": "r",
   "file_extension": ".r",
   "mimetype": "text/x-r-source",
   "name": "R",
   "pygments_lexer": "r",
   "version": "4.0.2"
  }
 },
 "nbformat": 4,
 "nbformat_minor": 4
}
