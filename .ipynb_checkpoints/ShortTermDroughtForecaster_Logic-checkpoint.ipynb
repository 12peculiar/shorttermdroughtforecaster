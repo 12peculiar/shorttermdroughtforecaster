{
 "cells": [
  {
   "cell_type": "markdown",
   "metadata": {},
   "source": [
    "# Introduction\n",
    "\n",
    "The intention of the short-term drought forecaster (STDF) is to predict weather and soil moisture for the upcoming year at a fine temporal and spatial scale.\n",
    "\n",
    "The Climate Prediction Center (CPC) of the National Weather Service (NWS) provides “long-lead” outlooks for temperature and precipitation for 102 regions in the lower 48 of the United States.\n",
    "\n",
    "![image](images/Screen Shot 2020-05-03 at 6.40.01 PM.png)\n",
    "\n",
    "These outlooks consist of the probability of whether a region will be hotter or cooler (temperature) and wetter or drier (precipitation) than their 30-year climatological normal (1980-2010) for 1 1-month and 13 3-month outlooks. These outlooks are updated on the 15th of each month and the 1-month outlook is for the nearest upcoming month while the 3-month outlooks consist of 13 total forecasts for the next year. The 3-month outlooks overlap one another, and each individual month is included in up to 3 outlooks. For example, on May 15th, the closest 1-month outlook would be for June, and the nearest 3-month outlook would be for June-July-August. There are subsequent outlooks for July-August-September, August-September-October, and so on for the next 13 month period.\n",
    "\n",
    "![image](https://www.cpc.ncep.noaa.gov/products/predictions/multi_season/13_seasonal_outlooks/color/page2.gif)\n",
    "\n",
    "# National Weather Service Forecasts\n",
    "\n",
    "The NWS uses \"probability of exceedance\" curves to give the forecast probability that a temperature or precipitation quantity will be exceeded at the location in question, for the forecast period. \n",
    "\n",
    "[temperature probability of exceedence curve](https://www.cpc.ncep.noaa.gov/products/predictions/long_range/poe_graph_index.php?lead=1&climdiv=97&var=t)\n",
    "\n",
    "[precipitation probability of exceedence curve](https://www.cpc.ncep.noaa.gov/products/predictions/long_range/poe_graph_index.php?lead=1&climdiv=97&var=p)\n",
    "\n",
    "In addition to the probability of exceedance, a ‘point forecast’ is given for the mean forecasted anomaly and the standard deviation (SD) of that anomaly, as well as percentile (%ile) that this mean will exceed the climatological mean (top left corners of the above figures). These probability of exceedance curves are generated for each outlook and region and are the basis for the information we see in the maps above. NWS meteorologists makes these forecasts using a series of models and tools that evaluate historical patterns as well as current global atmospheric and oceanic patterns. Full discussion [here](https://www.cpc.ncep.noaa.gov/products/predictions/long_range/tools.php).\n",
    "\n",
    "Our intent with the short-term forecaster is to translate the information from the NWS CPC into predictions that are fine-tuned for specific locations, instead of the broad outlooks provided for 102 regions. In addition, we translate these predictions to a finer temporal scale, so we are able to utilize them as the climate driver in in a daily driven, water-balance model, SOILWAT2. SOILWAT2 is a site-specific model, that takes inputs about daily weather, vegetation, and soils (multi-layer), and mechanistically predicts daily soil moisture, a metric used for evaluating likely success of plant germination and survival.\n",
    "\n",
    "# Downscaling Methods\n",
    "\n",
    "First, for each set of coordinates, the appropriate region is determined from the map above and the affiliated temperature and precipitation NWS long-lead forecast data are grabbed. Temperature and precipitation data are stored online in tabular form, [here](https://www.cpc.ncep.noaa.gov/pacdir/NFORdir/HUGEdir2/cpcllftd.dat) and [here](https://www.cpc.ncep.noaa.gov/pacdir/NFORdir/HUGEdir2/cpcllfpd.dat).\n"
   ]
  },
  {
   "cell_type": "code",
   "execution_count": 7,
   "metadata": {},
   "outputs": [
    {
     "name": "stdout",
     "output_type": "stream",
     "text": [
      "[1] \"NWS Temperature Data\"\n"
     ]
    },
    {
     "data": {
      "text/html": [
       "<table>\n",
       "<caption>A data.table: 6 × 8</caption>\n",
       "<thead>\n",
       "\t<tr><th scope=col>YEAR</th><th scope=col>MN</th><th scope=col>LEAD</th><th scope=col>CD</th><th scope=col>ForecastedMEAN</th><th scope=col>ClimatologicalMEAN</th><th scope=col>ForecastedSD</th><th scope=col>ClimatologicalSD</th></tr>\n",
       "\t<tr><th scope=col>&lt;int&gt;</th><th scope=col>&lt;int&gt;</th><th scope=col>&lt;int&gt;</th><th scope=col>&lt;int&gt;</th><th scope=col>&lt;dbl&gt;</th><th scope=col>&lt;dbl&gt;</th><th scope=col>&lt;dbl&gt;</th><th scope=col>&lt;dbl&gt;</th></tr>\n",
       "</thead>\n",
       "<tbody>\n",
       "\t<tr><td>2020</td><td>5</td><td>1</td><td>97</td><td>70.97</td><td>69.98</td><td>1.2039</td><td>1.35</td></tr>\n",
       "\t<tr><td>2020</td><td>5</td><td>2</td><td>97</td><td>69.64</td><td>68.80</td><td>1.0297</td><td>1.14</td></tr>\n",
       "\t<tr><td>2020</td><td>5</td><td>3</td><td>97</td><td>63.00</td><td>62.12</td><td>1.0835</td><td>1.19</td></tr>\n",
       "\t<tr><td>2020</td><td>5</td><td>4</td><td>97</td><td>53.41</td><td>52.51</td><td>1.2727</td><td>1.40</td></tr>\n",
       "\t<tr><td>2020</td><td>5</td><td>5</td><td>97</td><td>43.42</td><td>42.38</td><td>1.3283</td><td>1.44</td></tr>\n",
       "\t<tr><td>2020</td><td>5</td><td>6</td><td>97</td><td>36.88</td><td>35.83</td><td>1.6065</td><td>1.64</td></tr>\n",
       "</tbody>\n",
       "</table>\n"
      ],
      "text/latex": [
       "A data.table: 6 × 8\n",
       "\\begin{tabular}{llllllll}\n",
       " YEAR & MN & LEAD & CD & ForecastedMEAN & ClimatologicalMEAN & ForecastedSD & ClimatologicalSD\\\\\n",
       " <int> & <int> & <int> & <int> & <dbl> & <dbl> & <dbl> & <dbl>\\\\\n",
       "\\hline\n",
       "\t 2020 & 5 & 1 & 97 & 70.97 & 69.98 & 1.2039 & 1.35\\\\\n",
       "\t 2020 & 5 & 2 & 97 & 69.64 & 68.80 & 1.0297 & 1.14\\\\\n",
       "\t 2020 & 5 & 3 & 97 & 63.00 & 62.12 & 1.0835 & 1.19\\\\\n",
       "\t 2020 & 5 & 4 & 97 & 53.41 & 52.51 & 1.2727 & 1.40\\\\\n",
       "\t 2020 & 5 & 5 & 97 & 43.42 & 42.38 & 1.3283 & 1.44\\\\\n",
       "\t 2020 & 5 & 6 & 97 & 36.88 & 35.83 & 1.6065 & 1.64\\\\\n",
       "\\end{tabular}\n"
      ],
      "text/markdown": [
       "\n",
       "A data.table: 6 × 8\n",
       "\n",
       "| YEAR &lt;int&gt; | MN &lt;int&gt; | LEAD &lt;int&gt; | CD &lt;int&gt; | ForecastedMEAN &lt;dbl&gt; | ClimatologicalMEAN &lt;dbl&gt; | ForecastedSD &lt;dbl&gt; | ClimatologicalSD &lt;dbl&gt; |\n",
       "|---|---|---|---|---|---|---|---|\n",
       "| 2020 | 5 | 1 | 97 | 70.97 | 69.98 | 1.2039 | 1.35 |\n",
       "| 2020 | 5 | 2 | 97 | 69.64 | 68.80 | 1.0297 | 1.14 |\n",
       "| 2020 | 5 | 3 | 97 | 63.00 | 62.12 | 1.0835 | 1.19 |\n",
       "| 2020 | 5 | 4 | 97 | 53.41 | 52.51 | 1.2727 | 1.40 |\n",
       "| 2020 | 5 | 5 | 97 | 43.42 | 42.38 | 1.3283 | 1.44 |\n",
       "| 2020 | 5 | 6 | 97 | 36.88 | 35.83 | 1.6065 | 1.64 |\n",
       "\n"
      ],
      "text/plain": [
       "  YEAR MN LEAD CD ForecastedMEAN ClimatologicalMEAN ForecastedSD\n",
       "1 2020 5  1    97 70.97          69.98              1.2039      \n",
       "2 2020 5  2    97 69.64          68.80              1.0297      \n",
       "3 2020 5  3    97 63.00          62.12              1.0835      \n",
       "4 2020 5  4    97 53.41          52.51              1.2727      \n",
       "5 2020 5  5    97 43.42          42.38              1.3283      \n",
       "6 2020 5  6    97 36.88          35.83              1.6065      \n",
       "  ClimatologicalSD\n",
       "1 1.35            \n",
       "2 1.14            \n",
       "3 1.19            \n",
       "4 1.40            \n",
       "5 1.44            \n",
       "6 1.64            "
      ]
     },
     "metadata": {},
     "output_type": "display_data"
    },
    {
     "name": "stdout",
     "output_type": "stream",
     "text": [
      "[1] \"NWS Precipitation Data\"\n"
     ]
    },
    {
     "data": {
      "text/html": [
       "<table>\n",
       "<caption>A data.table: 6 × 9</caption>\n",
       "<thead>\n",
       "\t<tr><th scope=col>YEAR</th><th scope=col>MN</th><th scope=col>LEAD</th><th scope=col>CD</th><th scope=col>ForecastedMEAN</th><th scope=col>ClimatologicalMEAN</th><th scope=col>ForecastedSD</th><th scope=col>ClimatologicalSD</th><th scope=col>PO</th></tr>\n",
       "\t<tr><th scope=col>&lt;int&gt;</th><th scope=col>&lt;int&gt;</th><th scope=col>&lt;int&gt;</th><th scope=col>&lt;int&gt;</th><th scope=col>&lt;dbl&gt;</th><th scope=col>&lt;dbl&gt;</th><th scope=col>&lt;dbl&gt;</th><th scope=col>&lt;dbl&gt;</th><th scope=col>&lt;dbl&gt;</th></tr>\n",
       "</thead>\n",
       "<tbody>\n",
       "\t<tr><td>2020</td><td>5</td><td>1</td><td>97</td><td>4.72</td><td>4.72</td><td>0.3000</td><td>0.30</td><td>0.49</td></tr>\n",
       "\t<tr><td>2020</td><td>5</td><td>2</td><td>97</td><td>5.89</td><td>5.89</td><td>0.4800</td><td>0.48</td><td>0.61</td></tr>\n",
       "\t<tr><td>2020</td><td>5</td><td>3</td><td>97</td><td>5.22</td><td>5.20</td><td>0.5051</td><td>0.51</td><td>0.68</td></tr>\n",
       "\t<tr><td>2020</td><td>5</td><td>4</td><td>97</td><td>3.72</td><td>3.66</td><td>0.2998</td><td>0.30</td><td>0.40</td></tr>\n",
       "\t<tr><td>2020</td><td>5</td><td>5</td><td>97</td><td>3.74</td><td>3.33</td><td>0.2481</td><td>0.25</td><td>0.28</td></tr>\n",
       "\t<tr><td>2020</td><td>5</td><td>6</td><td>97</td><td>3.30</td><td>3.30</td><td>0.2400</td><td>0.24</td><td>0.27</td></tr>\n",
       "</tbody>\n",
       "</table>\n"
      ],
      "text/latex": [
       "A data.table: 6 × 9\n",
       "\\begin{tabular}{lllllllll}\n",
       " YEAR & MN & LEAD & CD & ForecastedMEAN & ClimatologicalMEAN & ForecastedSD & ClimatologicalSD & PO\\\\\n",
       " <int> & <int> & <int> & <int> & <dbl> & <dbl> & <dbl> & <dbl> & <dbl>\\\\\n",
       "\\hline\n",
       "\t 2020 & 5 & 1 & 97 & 4.72 & 4.72 & 0.3000 & 0.30 & 0.49\\\\\n",
       "\t 2020 & 5 & 2 & 97 & 5.89 & 5.89 & 0.4800 & 0.48 & 0.61\\\\\n",
       "\t 2020 & 5 & 3 & 97 & 5.22 & 5.20 & 0.5051 & 0.51 & 0.68\\\\\n",
       "\t 2020 & 5 & 4 & 97 & 3.72 & 3.66 & 0.2998 & 0.30 & 0.40\\\\\n",
       "\t 2020 & 5 & 5 & 97 & 3.74 & 3.33 & 0.2481 & 0.25 & 0.28\\\\\n",
       "\t 2020 & 5 & 6 & 97 & 3.30 & 3.30 & 0.2400 & 0.24 & 0.27\\\\\n",
       "\\end{tabular}\n"
      ],
      "text/markdown": [
       "\n",
       "A data.table: 6 × 9\n",
       "\n",
       "| YEAR &lt;int&gt; | MN &lt;int&gt; | LEAD &lt;int&gt; | CD &lt;int&gt; | ForecastedMEAN &lt;dbl&gt; | ClimatologicalMEAN &lt;dbl&gt; | ForecastedSD &lt;dbl&gt; | ClimatologicalSD &lt;dbl&gt; | PO &lt;dbl&gt; |\n",
       "|---|---|---|---|---|---|---|---|---|\n",
       "| 2020 | 5 | 1 | 97 | 4.72 | 4.72 | 0.3000 | 0.30 | 0.49 |\n",
       "| 2020 | 5 | 2 | 97 | 5.89 | 5.89 | 0.4800 | 0.48 | 0.61 |\n",
       "| 2020 | 5 | 3 | 97 | 5.22 | 5.20 | 0.5051 | 0.51 | 0.68 |\n",
       "| 2020 | 5 | 4 | 97 | 3.72 | 3.66 | 0.2998 | 0.30 | 0.40 |\n",
       "| 2020 | 5 | 5 | 97 | 3.74 | 3.33 | 0.2481 | 0.25 | 0.28 |\n",
       "| 2020 | 5 | 6 | 97 | 3.30 | 3.30 | 0.2400 | 0.24 | 0.27 |\n",
       "\n"
      ],
      "text/plain": [
       "  YEAR MN LEAD CD ForecastedMEAN ClimatologicalMEAN ForecastedSD\n",
       "1 2020 5  1    97 4.72           4.72               0.3000      \n",
       "2 2020 5  2    97 5.89           5.89               0.4800      \n",
       "3 2020 5  3    97 5.22           5.20               0.5051      \n",
       "4 2020 5  4    97 3.72           3.66               0.2998      \n",
       "5 2020 5  5    97 3.74           3.33               0.2481      \n",
       "6 2020 5  6    97 3.30           3.30               0.2400      \n",
       "  ClimatologicalSD PO  \n",
       "1 0.30             0.49\n",
       "2 0.48             0.61\n",
       "3 0.51             0.68\n",
       "4 0.30             0.40\n",
       "5 0.25             0.28\n",
       "6 0.24             0.27"
      ]
     },
     "metadata": {},
     "output_type": "display_data"
    }
   ],
   "source": [
    "library(raster)\n",
    "library(data.table)\n",
    "\n",
    "# Set coordinates\n",
    "lat <- 35.1266\n",
    "lng <- -111.5854\n",
    "\n",
    "# Determine Region from coordinates and shapefile ------------------------------------------\n",
    "CD102 <- shapefile(x = 'CD102/CD102.shp')\n",
    "points <- data.frame(x = lng, y = lat)\n",
    "\n",
    "coordinates(points) <- ~ x + y \n",
    "proj4string(points) <- CRS(\"+proj=longlat +datum=WGS84 +no_defs +ellps=WGS84 +towgs84=0,0,0\")\n",
    "\n",
    "CDRegion <- as.numeric(over(points, CD102)$ID4)\n",
    "\n",
    "# Read in and subset anomaly data -----------------------------------------------------------\n",
    "TempMonthlyAnomsWhole <- fread('CurrentAnomalyTempData.csv')\n",
    "TempMonthlyAnoms <- subset(TempMonthlyAnomsWhole, CD == CDRegion)\n",
    "\n",
    "PPTMonthlyAnomsWhole <- fread('CurrentAnomalyPPTData.csv')\n",
    "PPTMonthlyAnoms <- subset(PPTMonthlyAnomsWhole, CD == CDRegion)\n",
    "\n",
    "print('NWS Temperature Data')\n",
    "head(TempMonthlyAnoms)\n",
    "print('NWS Precipitation Data')\n",
    "head(PPTMonthlyAnoms)"
   ]
  },
  {
   "cell_type": "markdown",
   "metadata": {},
   "source": [
    "Next, because the future forecast for each lead is a probability curve we want to create a distribution of potential futures using the NWS data. To accomplish this, we create two sets of \"modifiers\", one for temperature and one for precipitation, equal to number of potential futures (i.e. n = 30). Because we want to reflect actual conditions, where weather in a year is likely to be consistently dry/wet and consistently cool/hot, and how these effects accumulate, we use a random normal distribution generator function, with a mean of 0 and SD of 1, to generate “modifiers” for both precipitation and temperature and apply the same modifier to one realization of the future.\n"
   ]
  },
  {
   "cell_type": "code",
   "execution_count": 9,
   "metadata": {},
   "outputs": [
    {
     "data": {
      "image/png": "[encoded data removed]",
      "text/plain": [
       "Plot with title “Histogram of realization_SDs_temp”"
      ]
     },
     "metadata": {
      "image/png": {
       "height": 420,
       "width": 420
      },
      "text/plain": {
       "height": 420,
       "width": 420
      }
     },
     "output_type": "display_data"
    },
    {
     "data": {
      "image/png": "[encoded data removed]",
      "text/plain": [
       "Plot with title “Histogram of realization_SDs_ppt”"
      ]
     },
     "metadata": {
      "image/png": {
       "height": 420,
       "width": 420
      },
      "text/plain": {
       "height": 420,
       "width": 420
      }
     },
     "output_type": "display_data"
    }
   ],
   "source": [
    "n <- 30\n",
    "realization_SDs_temp <- rnorm(n)\n",
    "realization_SDs_ppt <- rnorm(n)\n",
    "hist(realization_SDs_temp)\n",
    "hist(realization_SDs_ppt)"
   ]
  },
  {
   "cell_type": "markdown",
   "metadata": {},
   "source": [
    "To generate predictions for each lead, for both temperature and precipitation, the forecasted standard deviation (forecastedSD) is multiplied by the modifier and added to the forecastedMEAN. Then, an anomaly is calculated by subtracting the predicted value (Prediction_F) from the climatologicalMEAN for temperature, and dividing the predicted value (Prediction_in) by climatalogicalMEAN for precipitation.\n",
    "\n"
   ]
  },
  {
   "cell_type": "code",
   "execution_count": 14,
   "metadata": {
    "slideshow": {
     "slide_type": "-"
    }
   },
   "outputs": [
    {
     "data": {
      "text/html": [
       "<table>\n",
       "<caption>A data.table: 13 × 12</caption>\n",
       "<thead>\n",
       "\t<tr><th scope=col>YEAR</th><th scope=col>MN</th><th scope=col>LEAD</th><th scope=col>CD</th><th scope=col>ForecastedMEAN</th><th scope=col>ClimatologicalMEAN</th><th scope=col>ForecastedSD</th><th scope=col>ClimatologicalSD</th><th scope=col>Modifier</th><th scope=col>Prediction_F</th><th scope=col>Anom_F</th><th scope=col>Anom_C</th></tr>\n",
       "\t<tr><th scope=col>&lt;int&gt;</th><th scope=col>&lt;int&gt;</th><th scope=col>&lt;int&gt;</th><th scope=col>&lt;int&gt;</th><th scope=col>&lt;dbl&gt;</th><th scope=col>&lt;dbl&gt;</th><th scope=col>&lt;dbl&gt;</th><th scope=col>&lt;dbl&gt;</th><th scope=col>&lt;dbl&gt;</th><th scope=col>&lt;dbl&gt;</th><th scope=col>&lt;dbl&gt;</th><th scope=col>&lt;dbl&gt;</th></tr>\n",
       "</thead>\n",
       "<tbody>\n",
       "\t<tr><td>2020</td><td>5</td><td> 1</td><td>97</td><td>70.97</td><td>69.98</td><td>1.2039</td><td>1.35</td><td>-1.156624</td><td>69.57754</td><td>-0.4024599</td><td>-0.2235888</td></tr>\n",
       "\t<tr><td>2020</td><td>5</td><td> 2</td><td>97</td><td>69.64</td><td>68.80</td><td>1.0297</td><td>1.14</td><td>-1.156624</td><td>68.44902</td><td>-0.3509760</td><td>-0.1949867</td></tr>\n",
       "\t<tr><td>2020</td><td>5</td><td> 3</td><td>97</td><td>63.00</td><td>62.12</td><td>1.0835</td><td>1.19</td><td>-1.156624</td><td>61.74680</td><td>-0.3732024</td><td>-0.2073347</td></tr>\n",
       "\t<tr><td>2020</td><td>5</td><td> 4</td><td>97</td><td>53.41</td><td>52.51</td><td>1.2727</td><td>1.40</td><td>-1.156624</td><td>51.93796</td><td>-0.5720357</td><td>-0.3177976</td></tr>\n",
       "\t<tr><td>2020</td><td>5</td><td> 5</td><td>97</td><td>43.42</td><td>42.38</td><td>1.3283</td><td>1.44</td><td>-1.156624</td><td>41.88366</td><td>-0.4963440</td><td>-0.2757467</td></tr>\n",
       "\t<tr><td>2020</td><td>5</td><td> 6</td><td>97</td><td>36.88</td><td>35.83</td><td>1.6065</td><td>1.64</td><td>-1.156624</td><td>35.02188</td><td>-0.8081169</td><td>-0.4489538</td></tr>\n",
       "\t<tr><td>2020</td><td>5</td><td> 7</td><td>97</td><td>35.00</td><td>34.40</td><td>1.8439</td><td>1.92</td><td>-1.156624</td><td>32.86730</td><td>-1.5326994</td><td>-0.8514997</td></tr>\n",
       "\t<tr><td>2020</td><td>5</td><td> 8</td><td>97</td><td>38.35</td><td>37.68</td><td>1.6754</td><td>1.76</td><td>-1.156624</td><td>36.41219</td><td>-1.2678083</td><td>-0.7043379</td></tr>\n",
       "\t<tr><td>2020</td><td>5</td><td> 9</td><td>97</td><td>44.15</td><td>43.17</td><td>1.5151</td><td>1.56</td><td>-1.156624</td><td>42.39760</td><td>-0.7724014</td><td>-0.4291119</td></tr>\n",
       "\t<tr><td>2020</td><td>5</td><td>10</td><td>97</td><td>50.73</td><td>50.22</td><td>1.8356</td><td>1.91</td><td>-1.156624</td><td>48.60690</td><td>-1.6130995</td><td>-0.8961664</td></tr>\n",
       "\t<tr><td>2020</td><td>5</td><td>11</td><td>97</td><td>58.91</td><td>58.37</td><td>1.8835</td><td>2.07</td><td>-1.156624</td><td>56.73150</td><td>-1.6385018</td><td>-0.9102788</td></tr>\n",
       "\t<tr><td>2020</td><td>5</td><td>12</td><td>97</td><td>66.95</td><td>65.99</td><td>1.5450</td><td>1.68</td><td>-1.156624</td><td>65.16302</td><td>-0.8269845</td><td>-0.4594358</td></tr>\n",
       "\t<tr><td>2020</td><td>5</td><td>13</td><td>97</td><td>70.82</td><td>69.98</td><td>1.3218</td><td>1.35</td><td>-1.156624</td><td>69.29117</td><td>-0.6888259</td><td>-0.3826811</td></tr>\n",
       "</tbody>\n",
       "</table>\n"
      ],
      "text/latex": [
       "A data.table: 13 × 12\n",
       "\\begin{tabular}{llllllllllll}\n",
       " YEAR & MN & LEAD & CD & ForecastedMEAN & ClimatologicalMEAN & ForecastedSD & ClimatologicalSD & Modifier & Prediction\\_F & Anom\\_F & Anom\\_C\\\\\n",
       " <int> & <int> & <int> & <int> & <dbl> & <dbl> & <dbl> & <dbl> & <dbl> & <dbl> & <dbl> & <dbl>\\\\\n",
       "\\hline\n",
       "\t 2020 & 5 &  1 & 97 & 70.97 & 69.98 & 1.2039 & 1.35 & -1.156624 & 69.57754 & -0.4024599 & -0.2235888\\\\\n",
       "\t 2020 & 5 &  2 & 97 & 69.64 & 68.80 & 1.0297 & 1.14 & -1.156624 & 68.44902 & -0.3509760 & -0.1949867\\\\\n",
       "\t 2020 & 5 &  3 & 97 & 63.00 & 62.12 & 1.0835 & 1.19 & -1.156624 & 61.74680 & -0.3732024 & -0.2073347\\\\\n",
       "\t 2020 & 5 &  4 & 97 & 53.41 & 52.51 & 1.2727 & 1.40 & -1.156624 & 51.93796 & -0.5720357 & -0.3177976\\\\\n",
       "\t 2020 & 5 &  5 & 97 & 43.42 & 42.38 & 1.3283 & 1.44 & -1.156624 & 41.88366 & -0.4963440 & -0.2757467\\\\\n",
       "\t 2020 & 5 &  6 & 97 & 36.88 & 35.83 & 1.6065 & 1.64 & -1.156624 & 35.02188 & -0.8081169 & -0.4489538\\\\\n",
       "\t 2020 & 5 &  7 & 97 & 35.00 & 34.40 & 1.8439 & 1.92 & -1.156624 & 32.86730 & -1.5326994 & -0.8514997\\\\\n",
       "\t 2020 & 5 &  8 & 97 & 38.35 & 37.68 & 1.6754 & 1.76 & -1.156624 & 36.41219 & -1.2678083 & -0.7043379\\\\\n",
       "\t 2020 & 5 &  9 & 97 & 44.15 & 43.17 & 1.5151 & 1.56 & -1.156624 & 42.39760 & -0.7724014 & -0.4291119\\\\\n",
       "\t 2020 & 5 & 10 & 97 & 50.73 & 50.22 & 1.8356 & 1.91 & -1.156624 & 48.60690 & -1.6130995 & -0.8961664\\\\\n",
       "\t 2020 & 5 & 11 & 97 & 58.91 & 58.37 & 1.8835 & 2.07 & -1.156624 & 56.73150 & -1.6385018 & -0.9102788\\\\\n",
       "\t 2020 & 5 & 12 & 97 & 66.95 & 65.99 & 1.5450 & 1.68 & -1.156624 & 65.16302 & -0.8269845 & -0.4594358\\\\\n",
       "\t 2020 & 5 & 13 & 97 & 70.82 & 69.98 & 1.3218 & 1.35 & -1.156624 & 69.29117 & -0.6888259 & -0.3826811\\\\\n",
       "\\end{tabular}\n"
      ],
      "text/markdown": [
       "\n",
       "A data.table: 13 × 12\n",
       "\n",
       "| YEAR &lt;int&gt; | MN &lt;int&gt; | LEAD &lt;int&gt; | CD &lt;int&gt; | ForecastedMEAN &lt;dbl&gt; | ClimatologicalMEAN &lt;dbl&gt; | ForecastedSD &lt;dbl&gt; | ClimatologicalSD &lt;dbl&gt; | Modifier &lt;dbl&gt; | Prediction_F &lt;dbl&gt; | Anom_F &lt;dbl&gt; | Anom_C &lt;dbl&gt; |\n",
       "|---|---|---|---|---|---|---|---|---|---|---|---|\n",
       "| 2020 | 5 |  1 | 97 | 70.97 | 69.98 | 1.2039 | 1.35 | -1.156624 | 69.57754 | -0.4024599 | -0.2235888 |\n",
       "| 2020 | 5 |  2 | 97 | 69.64 | 68.80 | 1.0297 | 1.14 | -1.156624 | 68.44902 | -0.3509760 | -0.1949867 |\n",
       "| 2020 | 5 |  3 | 97 | 63.00 | 62.12 | 1.0835 | 1.19 | -1.156624 | 61.74680 | -0.3732024 | -0.2073347 |\n",
       "| 2020 | 5 |  4 | 97 | 53.41 | 52.51 | 1.2727 | 1.40 | -1.156624 | 51.93796 | -0.5720357 | -0.3177976 |\n",
       "| 2020 | 5 |  5 | 97 | 43.42 | 42.38 | 1.3283 | 1.44 | -1.156624 | 41.88366 | -0.4963440 | -0.2757467 |\n",
       "| 2020 | 5 |  6 | 97 | 36.88 | 35.83 | 1.6065 | 1.64 | -1.156624 | 35.02188 | -0.8081169 | -0.4489538 |\n",
       "| 2020 | 5 |  7 | 97 | 35.00 | 34.40 | 1.8439 | 1.92 | -1.156624 | 32.86730 | -1.5326994 | -0.8514997 |\n",
       "| 2020 | 5 |  8 | 97 | 38.35 | 37.68 | 1.6754 | 1.76 | -1.156624 | 36.41219 | -1.2678083 | -0.7043379 |\n",
       "| 2020 | 5 |  9 | 97 | 44.15 | 43.17 | 1.5151 | 1.56 | -1.156624 | 42.39760 | -0.7724014 | -0.4291119 |\n",
       "| 2020 | 5 | 10 | 97 | 50.73 | 50.22 | 1.8356 | 1.91 | -1.156624 | 48.60690 | -1.6130995 | -0.8961664 |\n",
       "| 2020 | 5 | 11 | 97 | 58.91 | 58.37 | 1.8835 | 2.07 | -1.156624 | 56.73150 | -1.6385018 | -0.9102788 |\n",
       "| 2020 | 5 | 12 | 97 | 66.95 | 65.99 | 1.5450 | 1.68 | -1.156624 | 65.16302 | -0.8269845 | -0.4594358 |\n",
       "| 2020 | 5 | 13 | 97 | 70.82 | 69.98 | 1.3218 | 1.35 | -1.156624 | 69.29117 | -0.6888259 | -0.3826811 |\n",
       "\n"
      ],
      "text/plain": [
       "   YEAR MN LEAD CD ForecastedMEAN ClimatologicalMEAN ForecastedSD\n",
       "1  2020 5   1   97 70.97          69.98              1.2039      \n",
       "2  2020 5   2   97 69.64          68.80              1.0297      \n",
       "3  2020 5   3   97 63.00          62.12              1.0835      \n",
       "4  2020 5   4   97 53.41          52.51              1.2727      \n",
       "5  2020 5   5   97 43.42          42.38              1.3283      \n",
       "6  2020 5   6   97 36.88          35.83              1.6065      \n",
       "7  2020 5   7   97 35.00          34.40              1.8439      \n",
       "8  2020 5   8   97 38.35          37.68              1.6754      \n",
       "9  2020 5   9   97 44.15          43.17              1.5151      \n",
       "10 2020 5  10   97 50.73          50.22              1.8356      \n",
       "11 2020 5  11   97 58.91          58.37              1.8835      \n",
       "12 2020 5  12   97 66.95          65.99              1.5450      \n",
       "13 2020 5  13   97 70.82          69.98              1.3218      \n",
       "   ClimatologicalSD Modifier  Prediction_F Anom_F     Anom_C    \n",
       "1  1.35             -1.156624 69.57754     -0.4024599 -0.2235888\n",
       "2  1.14             -1.156624 68.44902     -0.3509760 -0.1949867\n",
       "3  1.19             -1.156624 61.74680     -0.3732024 -0.2073347\n",
       "4  1.40             -1.156624 51.93796     -0.5720357 -0.3177976\n",
       "5  1.44             -1.156624 41.88366     -0.4963440 -0.2757467\n",
       "6  1.64             -1.156624 35.02188     -0.8081169 -0.4489538\n",
       "7  1.92             -1.156624 32.86730     -1.5326994 -0.8514997\n",
       "8  1.76             -1.156624 36.41219     -1.2678083 -0.7043379\n",
       "9  1.56             -1.156624 42.39760     -0.7724014 -0.4291119\n",
       "10 1.91             -1.156624 48.60690     -1.6130995 -0.8961664\n",
       "11 2.07             -1.156624 56.73150     -1.6385018 -0.9102788\n",
       "12 1.68             -1.156624 65.16302     -0.8269845 -0.4594358\n",
       "13 1.35             -1.156624 69.29117     -0.6888259 -0.3826811"
      ]
     },
     "metadata": {},
     "output_type": "display_data"
    },
    {
     "data": {
      "text/html": [
       "<table>\n",
       "<caption>A data.table: 13 × 15</caption>\n",
       "<thead>\n",
       "\t<tr><th scope=col>YEAR</th><th scope=col>MN</th><th scope=col>LEAD</th><th scope=col>CD</th><th scope=col>ForecastedMEAN</th><th scope=col>ClimatologicalMEAN</th><th scope=col>ForecastedSD</th><th scope=col>ClimatologicalSD</th><th scope=col>PO</th><th scope=col>Modifier</th><th scope=col>ForecastedSD_in</th><th scope=col>Prediction_in</th><th scope=col>Anom_CF</th><th scope=col>Anom_in</th><th scope=col>Anom_cm</th></tr>\n",
       "\t<tr><th scope=col>&lt;int&gt;</th><th scope=col>&lt;int&gt;</th><th scope=col>&lt;int&gt;</th><th scope=col>&lt;int&gt;</th><th scope=col>&lt;dbl&gt;</th><th scope=col>&lt;dbl&gt;</th><th scope=col>&lt;dbl&gt;</th><th scope=col>&lt;dbl&gt;</th><th scope=col>&lt;dbl&gt;</th><th scope=col>&lt;dbl&gt;</th><th scope=col>&lt;dbl&gt;</th><th scope=col>&lt;dbl&gt;</th><th scope=col>&lt;dbl&gt;</th><th scope=col>&lt;dbl&gt;</th><th scope=col>&lt;dbl&gt;</th></tr>\n",
       "</thead>\n",
       "<tbody>\n",
       "\t<tr><td>2020</td><td>5</td><td> 1</td><td>97</td><td>4.72</td><td>4.72</td><td>0.3000</td><td>0.30</td><td>0.49</td><td>-0.6127808</td><td>0.085684155</td><td>3.9291503</td><td>0.8324471</td><td>-0.7908497</td><td>-2.008758</td></tr>\n",
       "\t<tr><td>2020</td><td>5</td><td> 2</td><td>97</td><td>5.89</td><td>5.89</td><td>0.4800</td><td>0.48</td><td>0.61</td><td>-0.6127808</td><td>0.300223478</td><td>4.9582179</td><td>0.8418027</td><td>-0.9317821</td><td>-2.366726</td></tr>\n",
       "\t<tr><td>2020</td><td>5</td><td> 3</td><td>97</td><td>5.22</td><td>5.20</td><td>0.5051</td><td>0.51</td><td>0.68</td><td>-0.6127808</td><td>0.366260638</td><td>4.4662484</td><td>0.8588939</td><td>-0.7337516</td><td>-1.863729</td></tr>\n",
       "\t<tr><td>2020</td><td>5</td><td> 4</td><td>97</td><td>3.72</td><td>3.66</td><td>0.2998</td><td>0.30</td><td>0.40</td><td>-0.6127808</td><td>0.049212913</td><td>2.7905973</td><td>0.7624583</td><td>-0.8694027</td><td>-2.208283</td></tr>\n",
       "\t<tr><td>2020</td><td>5</td><td> 5</td><td>97</td><td>3.74</td><td>3.33</td><td>0.2481</td><td>0.25</td><td>0.28</td><td>-0.6127808</td><td>0.006885773</td><td>2.5157594</td><td>0.7554833</td><td>-0.8142406</td><td>-2.068171</td></tr>\n",
       "\t<tr><td>2020</td><td>5</td><td> 6</td><td>97</td><td>3.30</td><td>3.30</td><td>0.2400</td><td>0.24</td><td>0.27</td><td>-0.6127808</td><td>0.005063911</td><td>2.1742451</td><td>0.6588621</td><td>-1.1257549</td><td>-2.859418</td></tr>\n",
       "\t<tr><td>2020</td><td>5</td><td> 7</td><td>97</td><td>3.86</td><td>3.42</td><td>0.2306</td><td>0.24</td><td>0.25</td><td>-0.6127808</td><td>0.002827725</td><td>2.5234047</td><td>0.7378376</td><td>-0.8965953</td><td>-2.277352</td></tr>\n",
       "\t<tr><td>2020</td><td>5</td><td> 8</td><td>97</td><td>3.86</td><td>3.68</td><td>0.2296</td><td>0.23</td><td>0.28</td><td>-0.6127808</td><td>0.005221036</td><td>2.6876733</td><td>0.7303460</td><td>-0.9923267</td><td>-2.520510</td></tr>\n",
       "\t<tr><td>2020</td><td>5</td><td> 9</td><td>97</td><td>3.28</td><td>3.27</td><td>0.4000</td><td>0.40</td><td>0.51</td><td>-0.6127808</td><td>0.165853818</td><td>2.4752158</td><td>0.7569467</td><td>-0.7947842</td><td>-2.018752</td></tr>\n",
       "\t<tr><td>2020</td><td>5</td><td>10</td><td>97</td><td>2.54</td><td>2.49</td><td>0.3578</td><td>0.36</td><td>0.48</td><td>-0.6127808</td><td>0.117512491</td><td>1.8543999</td><td>0.7447389</td><td>-0.6356001</td><td>-1.614424</td></tr>\n",
       "\t<tr><td>2020</td><td>5</td><td>11</td><td>97</td><td>1.43</td><td>1.43</td><td>0.2000</td><td>0.20</td><td>0.29</td><td>-0.6127808</td><td>0.003888290</td><td>0.9550128</td><td>0.6678411</td><td>-0.4749872</td><td>-1.206467</td></tr>\n",
       "\t<tr><td>2020</td><td>5</td><td>12</td><td>97</td><td>2.76</td><td>2.76</td><td>0.3600</td><td>0.36</td><td>0.54</td><td>-0.6127808</td><td>0.150777995</td><td>2.1439452</td><td>0.7767917</td><td>-0.6160548</td><td>-1.564779</td></tr>\n",
       "\t<tr><td>2020</td><td>5</td><td>13</td><td>97</td><td>4.72</td><td>4.72</td><td>0.3000</td><td>0.30</td><td>0.49</td><td>-0.6127808</td><td>0.085684155</td><td>3.9291503</td><td>0.8324471</td><td>-0.7908497</td><td>-2.008758</td></tr>\n",
       "</tbody>\n",
       "</table>\n"
      ],
      "text/latex": [
       "A data.table: 13 × 15\n",
       "\\begin{tabular}{lllllllllllllll}\n",
       " YEAR & MN & LEAD & CD & ForecastedMEAN & ClimatologicalMEAN & ForecastedSD & ClimatologicalSD & PO & Modifier & ForecastedSD\\_in & Prediction\\_in & Anom\\_CF & Anom\\_in & Anom\\_cm\\\\\n",
       " <int> & <int> & <int> & <int> & <dbl> & <dbl> & <dbl> & <dbl> & <dbl> & <dbl> & <dbl> & <dbl> & <dbl> & <dbl> & <dbl>\\\\\n",
       "\\hline\n",
       "\t 2020 & 5 &  1 & 97 & 4.72 & 4.72 & 0.3000 & 0.30 & 0.49 & -0.6127808 & 0.085684155 & 3.9291503 & 0.8324471 & -0.7908497 & -2.008758\\\\\n",
       "\t 2020 & 5 &  2 & 97 & 5.89 & 5.89 & 0.4800 & 0.48 & 0.61 & -0.6127808 & 0.300223478 & 4.9582179 & 0.8418027 & -0.9317821 & -2.366726\\\\\n",
       "\t 2020 & 5 &  3 & 97 & 5.22 & 5.20 & 0.5051 & 0.51 & 0.68 & -0.6127808 & 0.366260638 & 4.4662484 & 0.8588939 & -0.7337516 & -1.863729\\\\\n",
       "\t 2020 & 5 &  4 & 97 & 3.72 & 3.66 & 0.2998 & 0.30 & 0.40 & -0.6127808 & 0.049212913 & 2.7905973 & 0.7624583 & -0.8694027 & -2.208283\\\\\n",
       "\t 2020 & 5 &  5 & 97 & 3.74 & 3.33 & 0.2481 & 0.25 & 0.28 & -0.6127808 & 0.006885773 & 2.5157594 & 0.7554833 & -0.8142406 & -2.068171\\\\\n",
       "\t 2020 & 5 &  6 & 97 & 3.30 & 3.30 & 0.2400 & 0.24 & 0.27 & -0.6127808 & 0.005063911 & 2.1742451 & 0.6588621 & -1.1257549 & -2.859418\\\\\n",
       "\t 2020 & 5 &  7 & 97 & 3.86 & 3.42 & 0.2306 & 0.24 & 0.25 & -0.6127808 & 0.002827725 & 2.5234047 & 0.7378376 & -0.8965953 & -2.277352\\\\\n",
       "\t 2020 & 5 &  8 & 97 & 3.86 & 3.68 & 0.2296 & 0.23 & 0.28 & -0.6127808 & 0.005221036 & 2.6876733 & 0.7303460 & -0.9923267 & -2.520510\\\\\n",
       "\t 2020 & 5 &  9 & 97 & 3.28 & 3.27 & 0.4000 & 0.40 & 0.51 & -0.6127808 & 0.165853818 & 2.4752158 & 0.7569467 & -0.7947842 & -2.018752\\\\\n",
       "\t 2020 & 5 & 10 & 97 & 2.54 & 2.49 & 0.3578 & 0.36 & 0.48 & -0.6127808 & 0.117512491 & 1.8543999 & 0.7447389 & -0.6356001 & -1.614424\\\\\n",
       "\t 2020 & 5 & 11 & 97 & 1.43 & 1.43 & 0.2000 & 0.20 & 0.29 & -0.6127808 & 0.003888290 & 0.9550128 & 0.6678411 & -0.4749872 & -1.206467\\\\\n",
       "\t 2020 & 5 & 12 & 97 & 2.76 & 2.76 & 0.3600 & 0.36 & 0.54 & -0.6127808 & 0.150777995 & 2.1439452 & 0.7767917 & -0.6160548 & -1.564779\\\\\n",
       "\t 2020 & 5 & 13 & 97 & 4.72 & 4.72 & 0.3000 & 0.30 & 0.49 & -0.6127808 & 0.085684155 & 3.9291503 & 0.8324471 & -0.7908497 & -2.008758\\\\\n",
       "\\end{tabular}\n"
      ],
      "text/markdown": [
       "\n",
       "A data.table: 13 × 15\n",
       "\n",
       "| YEAR &lt;int&gt; | MN &lt;int&gt; | LEAD &lt;int&gt; | CD &lt;int&gt; | ForecastedMEAN &lt;dbl&gt; | ClimatologicalMEAN &lt;dbl&gt; | ForecastedSD &lt;dbl&gt; | ClimatologicalSD &lt;dbl&gt; | PO &lt;dbl&gt; | Modifier &lt;dbl&gt; | ForecastedSD_in &lt;dbl&gt; | Prediction_in &lt;dbl&gt; | Anom_CF &lt;dbl&gt; | Anom_in &lt;dbl&gt; | Anom_cm &lt;dbl&gt; |\n",
       "|---|---|---|---|---|---|---|---|---|---|---|---|---|---|---|\n",
       "| 2020 | 5 |  1 | 97 | 4.72 | 4.72 | 0.3000 | 0.30 | 0.49 | -0.6127808 | 0.085684155 | 3.9291503 | 0.8324471 | -0.7908497 | -2.008758 |\n",
       "| 2020 | 5 |  2 | 97 | 5.89 | 5.89 | 0.4800 | 0.48 | 0.61 | -0.6127808 | 0.300223478 | 4.9582179 | 0.8418027 | -0.9317821 | -2.366726 |\n",
       "| 2020 | 5 |  3 | 97 | 5.22 | 5.20 | 0.5051 | 0.51 | 0.68 | -0.6127808 | 0.366260638 | 4.4662484 | 0.8588939 | -0.7337516 | -1.863729 |\n",
       "| 2020 | 5 |  4 | 97 | 3.72 | 3.66 | 0.2998 | 0.30 | 0.40 | -0.6127808 | 0.049212913 | 2.7905973 | 0.7624583 | -0.8694027 | -2.208283 |\n",
       "| 2020 | 5 |  5 | 97 | 3.74 | 3.33 | 0.2481 | 0.25 | 0.28 | -0.6127808 | 0.006885773 | 2.5157594 | 0.7554833 | -0.8142406 | -2.068171 |\n",
       "| 2020 | 5 |  6 | 97 | 3.30 | 3.30 | 0.2400 | 0.24 | 0.27 | -0.6127808 | 0.005063911 | 2.1742451 | 0.6588621 | -1.1257549 | -2.859418 |\n",
       "| 2020 | 5 |  7 | 97 | 3.86 | 3.42 | 0.2306 | 0.24 | 0.25 | -0.6127808 | 0.002827725 | 2.5234047 | 0.7378376 | -0.8965953 | -2.277352 |\n",
       "| 2020 | 5 |  8 | 97 | 3.86 | 3.68 | 0.2296 | 0.23 | 0.28 | -0.6127808 | 0.005221036 | 2.6876733 | 0.7303460 | -0.9923267 | -2.520510 |\n",
       "| 2020 | 5 |  9 | 97 | 3.28 | 3.27 | 0.4000 | 0.40 | 0.51 | -0.6127808 | 0.165853818 | 2.4752158 | 0.7569467 | -0.7947842 | -2.018752 |\n",
       "| 2020 | 5 | 10 | 97 | 2.54 | 2.49 | 0.3578 | 0.36 | 0.48 | -0.6127808 | 0.117512491 | 1.8543999 | 0.7447389 | -0.6356001 | -1.614424 |\n",
       "| 2020 | 5 | 11 | 97 | 1.43 | 1.43 | 0.2000 | 0.20 | 0.29 | -0.6127808 | 0.003888290 | 0.9550128 | 0.6678411 | -0.4749872 | -1.206467 |\n",
       "| 2020 | 5 | 12 | 97 | 2.76 | 2.76 | 0.3600 | 0.36 | 0.54 | -0.6127808 | 0.150777995 | 2.1439452 | 0.7767917 | -0.6160548 | -1.564779 |\n",
       "| 2020 | 5 | 13 | 97 | 4.72 | 4.72 | 0.3000 | 0.30 | 0.49 | -0.6127808 | 0.085684155 | 3.9291503 | 0.8324471 | -0.7908497 | -2.008758 |\n",
       "\n"
      ],
      "text/plain": [
       "   YEAR MN LEAD CD ForecastedMEAN ClimatologicalMEAN ForecastedSD\n",
       "1  2020 5   1   97 4.72           4.72               0.3000      \n",
       "2  2020 5   2   97 5.89           5.89               0.4800      \n",
       "3  2020 5   3   97 5.22           5.20               0.5051      \n",
       "4  2020 5   4   97 3.72           3.66               0.2998      \n",
       "5  2020 5   5   97 3.74           3.33               0.2481      \n",
       "6  2020 5   6   97 3.30           3.30               0.2400      \n",
       "7  2020 5   7   97 3.86           3.42               0.2306      \n",
       "8  2020 5   8   97 3.86           3.68               0.2296      \n",
       "9  2020 5   9   97 3.28           3.27               0.4000      \n",
       "10 2020 5  10   97 2.54           2.49               0.3578      \n",
       "11 2020 5  11   97 1.43           1.43               0.2000      \n",
       "12 2020 5  12   97 2.76           2.76               0.3600      \n",
       "13 2020 5  13   97 4.72           4.72               0.3000      \n",
       "   ClimatologicalSD PO   Modifier   ForecastedSD_in Prediction_in Anom_CF  \n",
       "1  0.30             0.49 -0.6127808 0.085684155     3.9291503     0.8324471\n",
       "2  0.48             0.61 -0.6127808 0.300223478     4.9582179     0.8418027\n",
       "3  0.51             0.68 -0.6127808 0.366260638     4.4662484     0.8588939\n",
       "4  0.30             0.40 -0.6127808 0.049212913     2.7905973     0.7624583\n",
       "5  0.25             0.28 -0.6127808 0.006885773     2.5157594     0.7554833\n",
       "6  0.24             0.27 -0.6127808 0.005063911     2.1742451     0.6588621\n",
       "7  0.24             0.25 -0.6127808 0.002827725     2.5234047     0.7378376\n",
       "8  0.23             0.28 -0.6127808 0.005221036     2.6876733     0.7303460\n",
       "9  0.40             0.51 -0.6127808 0.165853818     2.4752158     0.7569467\n",
       "10 0.36             0.48 -0.6127808 0.117512491     1.8543999     0.7447389\n",
       "11 0.20             0.29 -0.6127808 0.003888290     0.9550128     0.6678411\n",
       "12 0.36             0.54 -0.6127808 0.150777995     2.1439452     0.7767917\n",
       "13 0.30             0.49 -0.6127808 0.085684155     3.9291503     0.8324471\n",
       "   Anom_in    Anom_cm  \n",
       "1  -0.7908497 -2.008758\n",
       "2  -0.9317821 -2.366726\n",
       "3  -0.7337516 -1.863729\n",
       "4  -0.8694027 -2.208283\n",
       "5  -0.8142406 -2.068171\n",
       "6  -1.1257549 -2.859418\n",
       "7  -0.8965953 -2.277352\n",
       "8  -0.9923267 -2.520510\n",
       "9  -0.7947842 -2.018752\n",
       "10 -0.6356001 -1.614424\n",
       "11 -0.4749872 -1.206467\n",
       "12 -0.6160548 -1.564779\n",
       "13 -0.7908497 -2.008758"
      ]
     },
     "metadata": {},
     "output_type": "display_data"
    }
   ],
   "source": [
    "nn <- 1\n",
    "TempMonthlyAnoms$Modifier <-  realization_SDs_temp[nn]\n",
    "PPTMonthlyAnoms$Modifier <-  realization_SDs_ppt[nn]\n",
    "\n",
    "# Step 2 - generate an anomaly for each lead and future by\n",
    "# - A. A sd modifier for each temp and ppt will be selected for each run. This modifier is consistent for each run\n",
    "# - B. Apply the modifier to generate forecast: forecasted mean + (forecasted sd * modifier)\n",
    "# - C. Subtract climatological mean from prediction (temp) or divide predicted values by climatalogical mean (ppt)\n",
    "\n",
    " # Temp\n",
    "TempMonthlyAnoms$Prediction_F <-  as.numeric(TempMonthlyAnoms$ForecastedMEAN) +\n",
    "                    (as.numeric(TempMonthlyAnoms$ForecastedSD) *  TempMonthlyAnoms$Modifier)\n",
    "TempMonthlyAnoms$Anom_F <- TempMonthlyAnoms$Prediction_F - TempMonthlyAnoms$ClimatologicalMEAN\n",
    "TempMonthlyAnoms$Anom_C <- TempMonthlyAnoms$Anom_F * (5/9)\n",
    "\n",
    "# PPT\n",
    "backT <- 1/PPTMonthlyAnoms$PO\n",
    "PPTMonthlyAnoms$ForecastedSD_in <- as.numeric(PPTMonthlyAnoms$ForecastedSD) ^ backT #inches\n",
    "PPTMonthlyAnoms$Prediction_in <- as.numeric(PPTMonthlyAnoms$ForecastedMEAN ^ PPTMonthlyAnoms$PO) +\n",
    "                    (as.numeric(PPTMonthlyAnoms$ForecastedSD) * PPTMonthlyAnoms$Modifier) \n",
    "\n",
    "PPTMonthlyAnoms$Prediction_in <- PPTMonthlyAnoms$Prediction_in ^ backT #inches\n",
    "\n",
    "PPTMonthlyAnoms$Anom_CF <- PPTMonthlyAnoms$Prediction_in / PPTMonthlyAnoms$ClimatologicalMEAN\n",
    "PPTMonthlyAnoms$Anom_in <- PPTMonthlyAnoms$Prediction_in - PPTMonthlyAnoms$ClimatologicalMEAN\n",
    "PPTMonthlyAnoms$Anom_cm <- PPTMonthlyAnoms$Anom_in * 2.54\n",
    "\n",
    "TempMonthlyAnoms\n",
    "PPTMonthlyAnoms\n"
   ]
  },
  {
   "cell_type": "markdown",
   "metadata": {},
   "source": [
    "Since long-lead forecasts are predictions for 3-month long windows, and we want values for individual months, we then take the average of leads that are affiliated with each month. The result is a table of 12 monthly anomalies, one each for both temperature and precipitation.\n"
   ]
  },
  {
   "cell_type": "code",
   "execution_count": 21,
   "metadata": {},
   "outputs": [
    {
     "name": "stdout",
     "output_type": "stream",
     "text": [
      "[1] \"Months & leads matrix\"\n"
     ]
    },
    {
     "data": {
      "text/html": [
       "<table>\n",
       "<caption>A data.frame: 12 × 5</caption>\n",
       "<thead>\n",
       "\t<tr><th></th><th scope=col>LEAD</th><th scope=col>Month</th><th scope=col>lead1</th><th scope=col>lead2</th><th scope=col>lead3</th></tr>\n",
       "\t<tr><th></th><th scope=col>&lt;int&gt;</th><th scope=col>&lt;dbl&gt;</th><th scope=col>&lt;int&gt;</th><th scope=col>&lt;dbl&gt;</th><th scope=col>&lt;dbl&gt;</th></tr>\n",
       "</thead>\n",
       "<tbody>\n",
       "\t<tr><th scope=row>1</th><td> 1</td><td> 6</td><td> 1</td><td>NA</td><td>NA</td></tr>\n",
       "\t<tr><th scope=row>2</th><td> 2</td><td> 7</td><td> 2</td><td> 1</td><td>NA</td></tr>\n",
       "\t<tr><th scope=row>3</th><td> 3</td><td> 8</td><td> 3</td><td> 2</td><td> 1</td></tr>\n",
       "\t<tr><th scope=row>4</th><td> 4</td><td> 9</td><td> 4</td><td> 3</td><td> 2</td></tr>\n",
       "\t<tr><th scope=row>5</th><td> 5</td><td>10</td><td> 5</td><td> 4</td><td> 3</td></tr>\n",
       "\t<tr><th scope=row>6</th><td> 6</td><td>11</td><td> 6</td><td> 5</td><td> 4</td></tr>\n",
       "\t<tr><th scope=row>7</th><td> 7</td><td>12</td><td> 7</td><td> 6</td><td> 5</td></tr>\n",
       "\t<tr><th scope=row>8</th><td> 8</td><td> 1</td><td> 8</td><td> 7</td><td> 6</td></tr>\n",
       "\t<tr><th scope=row>9</th><td> 9</td><td> 2</td><td> 9</td><td> 8</td><td> 7</td></tr>\n",
       "\t<tr><th scope=row>10</th><td>10</td><td> 3</td><td>10</td><td> 9</td><td> 8</td></tr>\n",
       "\t<tr><th scope=row>11</th><td>11</td><td> 4</td><td>11</td><td>10</td><td> 9</td></tr>\n",
       "\t<tr><th scope=row>12</th><td>12</td><td> 5</td><td>12</td><td>11</td><td>10</td></tr>\n",
       "</tbody>\n",
       "</table>\n"
      ],
      "text/latex": [
       "A data.frame: 12 × 5\n",
       "\\begin{tabular}{r|lllll}\n",
       "  & LEAD & Month & lead1 & lead2 & lead3\\\\\n",
       "  & <int> & <dbl> & <int> & <dbl> & <dbl>\\\\\n",
       "\\hline\n",
       "\t1 &  1 &  6 &  1 & NA & NA\\\\\n",
       "\t2 &  2 &  7 &  2 &  1 & NA\\\\\n",
       "\t3 &  3 &  8 &  3 &  2 &  1\\\\\n",
       "\t4 &  4 &  9 &  4 &  3 &  2\\\\\n",
       "\t5 &  5 & 10 &  5 &  4 &  3\\\\\n",
       "\t6 &  6 & 11 &  6 &  5 &  4\\\\\n",
       "\t7 &  7 & 12 &  7 &  6 &  5\\\\\n",
       "\t8 &  8 &  1 &  8 &  7 &  6\\\\\n",
       "\t9 &  9 &  2 &  9 &  8 &  7\\\\\n",
       "\t10 & 10 &  3 & 10 &  9 &  8\\\\\n",
       "\t11 & 11 &  4 & 11 & 10 &  9\\\\\n",
       "\t12 & 12 &  5 & 12 & 11 & 10\\\\\n",
       "\\end{tabular}\n"
      ],
      "text/markdown": [
       "\n",
       "A data.frame: 12 × 5\n",
       "\n",
       "| <!--/--> | LEAD &lt;int&gt; | Month &lt;dbl&gt; | lead1 &lt;int&gt; | lead2 &lt;dbl&gt; | lead3 &lt;dbl&gt; |\n",
       "|---|---|---|---|---|---|\n",
       "| 1 |  1 |  6 |  1 | NA | NA |\n",
       "| 2 |  2 |  7 |  2 |  1 | NA |\n",
       "| 3 |  3 |  8 |  3 |  2 |  1 |\n",
       "| 4 |  4 |  9 |  4 |  3 |  2 |\n",
       "| 5 |  5 | 10 |  5 |  4 |  3 |\n",
       "| 6 |  6 | 11 |  6 |  5 |  4 |\n",
       "| 7 |  7 | 12 |  7 |  6 |  5 |\n",
       "| 8 |  8 |  1 |  8 |  7 |  6 |\n",
       "| 9 |  9 |  2 |  9 |  8 |  7 |\n",
       "| 10 | 10 |  3 | 10 |  9 |  8 |\n",
       "| 11 | 11 |  4 | 11 | 10 |  9 |\n",
       "| 12 | 12 |  5 | 12 | 11 | 10 |\n",
       "\n"
      ],
      "text/plain": [
       "   LEAD Month lead1 lead2 lead3\n",
       "1   1    6     1    NA    NA   \n",
       "2   2    7     2     1    NA   \n",
       "3   3    8     3     2     1   \n",
       "4   4    9     4     3     2   \n",
       "5   5   10     5     4     3   \n",
       "6   6   11     6     5     4   \n",
       "7   7   12     7     6     5   \n",
       "8   8    1     8     7     6   \n",
       "9   9    2     9     8     7   \n",
       "10 10    3    10     9     8   \n",
       "11 11    4    11    10     9   \n",
       "12 12    5    12    11    10   "
      ]
     },
     "metadata": {},
     "output_type": "display_data"
    },
    {
     "name": "stdout",
     "output_type": "stream",
     "text": [
      "[1] \"Monthly means of predicted anomalies\"\n"
     ]
    },
    {
     "data": {
      "text/html": [
       "<table>\n",
       "<caption>A data.frame: 12 × 3</caption>\n",
       "<thead>\n",
       "\t<tr><th scope=col>tempAnom</th><th scope=col>pptAnom_CF</th><th scope=col>MN</th></tr>\n",
       "\t<tr><th scope=col>&lt;dbl&gt;</th><th scope=col>&lt;dbl&gt;</th><th scope=col>&lt;dbl&gt;</th></tr>\n",
       "</thead>\n",
       "<tbody>\n",
       "\t<tr><td>-0.6682638</td><td>0.7090153</td><td> 1</td></tr>\n",
       "\t<tr><td>-0.6616498</td><td>0.7417101</td><td> 2</td></tr>\n",
       "\t<tr><td>-0.6765387</td><td>0.7440106</td><td> 3</td></tr>\n",
       "\t<tr><td>-0.7451857</td><td>0.7231756</td><td> 4</td></tr>\n",
       "\t<tr><td>-0.7552936</td><td>0.7297906</td><td> 5</td></tr>\n",
       "\t<tr><td>-0.2235888</td><td>0.8324471</td><td> 6</td></tr>\n",
       "\t<tr><td>-0.2092878</td><td>0.8371249</td><td> 7</td></tr>\n",
       "\t<tr><td>-0.2086367</td><td>0.8443812</td><td> 8</td></tr>\n",
       "\t<tr><td>-0.2400396</td><td>0.8210516</td><td> 9</td></tr>\n",
       "\t<tr><td>-0.2669596</td><td>0.7922785</td><td>10</td></tr>\n",
       "\t<tr><td>-0.3474994</td><td>0.7256012</td><td>11</td></tr>\n",
       "\t<tr><td>-0.5254001</td><td>0.7173944</td><td>12</td></tr>\n",
       "</tbody>\n",
       "</table>\n"
      ],
      "text/latex": [
       "A data.frame: 12 × 3\n",
       "\\begin{tabular}{lll}\n",
       " tempAnom & pptAnom\\_CF & MN\\\\\n",
       " <dbl> & <dbl> & <dbl>\\\\\n",
       "\\hline\n",
       "\t -0.6682638 & 0.7090153 &  1\\\\\n",
       "\t -0.6616498 & 0.7417101 &  2\\\\\n",
       "\t -0.6765387 & 0.7440106 &  3\\\\\n",
       "\t -0.7451857 & 0.7231756 &  4\\\\\n",
       "\t -0.7552936 & 0.7297906 &  5\\\\\n",
       "\t -0.2235888 & 0.8324471 &  6\\\\\n",
       "\t -0.2092878 & 0.8371249 &  7\\\\\n",
       "\t -0.2086367 & 0.8443812 &  8\\\\\n",
       "\t -0.2400396 & 0.8210516 &  9\\\\\n",
       "\t -0.2669596 & 0.7922785 & 10\\\\\n",
       "\t -0.3474994 & 0.7256012 & 11\\\\\n",
       "\t -0.5254001 & 0.7173944 & 12\\\\\n",
       "\\end{tabular}\n"
      ],
      "text/markdown": [
       "\n",
       "A data.frame: 12 × 3\n",
       "\n",
       "| tempAnom &lt;dbl&gt; | pptAnom_CF &lt;dbl&gt; | MN &lt;dbl&gt; |\n",
       "|---|---|---|\n",
       "| -0.6682638 | 0.7090153 |  1 |\n",
       "| -0.6616498 | 0.7417101 |  2 |\n",
       "| -0.6765387 | 0.7440106 |  3 |\n",
       "| -0.7451857 | 0.7231756 |  4 |\n",
       "| -0.7552936 | 0.7297906 |  5 |\n",
       "| -0.2235888 | 0.8324471 |  6 |\n",
       "| -0.2092878 | 0.8371249 |  7 |\n",
       "| -0.2086367 | 0.8443812 |  8 |\n",
       "| -0.2400396 | 0.8210516 |  9 |\n",
       "| -0.2669596 | 0.7922785 | 10 |\n",
       "| -0.3474994 | 0.7256012 | 11 |\n",
       "| -0.5254001 | 0.7173944 | 12 |\n",
       "\n"
      ],
      "text/plain": [
       "   tempAnom   pptAnom_CF MN\n",
       "1  -0.6682638 0.7090153   1\n",
       "2  -0.6616498 0.7417101   2\n",
       "3  -0.6765387 0.7440106   3\n",
       "4  -0.7451857 0.7231756   4\n",
       "5  -0.7552936 0.7297906   5\n",
       "6  -0.2235888 0.8324471   6\n",
       "7  -0.2092878 0.8371249   7\n",
       "8  -0.2086367 0.8443812   8\n",
       "9  -0.2400396 0.8210516   9\n",
       "10 -0.2669596 0.7922785  10\n",
       "11 -0.3474994 0.7256012  11\n",
       "12 -0.5254001 0.7173944  12"
      ]
     },
     "metadata": {},
     "output_type": "display_data"
    }
   ],
   "source": [
    "library(lubridate)\n",
    "currMonth <- month(Sys.Date())\n",
    "\n",
    "# How months and leads relate\n",
    "monthLeads <- data.frame(TempMonthlyAnoms[,'LEAD'])\n",
    "\n",
    "if(day(Sys.Date()) < 15){\n",
    "    monthLeads$Month <- monthLeads$LEAD + currMonth - 1 # a lead of one in the current month before the 15th is the current month\n",
    "} else {\n",
    "    monthLeads$Month <- monthLeads$LEAD + currMonth # after the 15th the lead of one is the next month\n",
    "}\n",
    "\n",
    "# leads\n",
    "monthLeads$lead1 <- monthLeads$LEAD\n",
    "monthLeads$lead2 <-  monthLeads$LEAD - 1\n",
    "monthLeads$lead3 <-  monthLeads$LEAD - 2\n",
    "\n",
    "monthLeads[monthLeads <= 0] <- NA \n",
    "monthLeads$Month <- ifelse(monthLeads$Month > 12, monthLeads$Month - 12, monthLeads$Month)\n",
    "monthLeads <- monthLeads[1:12,]\n",
    "\n",
    "print('Months & leads matrix')\n",
    "monthLeads\n",
    "# Get monthly means for the correct leads\n",
    "yearlydat <- data.frame(matrix(nrow = 12, ncol = 2))\n",
    "names(yearlydat) <- c('tempAnom', 'pptAnom_CF')\n",
    "yearlydat$MN <- as.numeric(row.names(yearlydat))\n",
    "\n",
    "for(m in c(yearlydat$MN)){ # for each month, m, in a year, nn\n",
    "\n",
    "  leads <- c(t(monthLeads[monthLeads$Month == m, 3:5]))\n",
    "\n",
    "  yearlydat[m, 1] <- mean(TempMonthlyAnoms$Anom_C[leads], na.rm = TRUE) \n",
    "  # ppt\n",
    "  yearlydat[m, 2] <- mean(PPTMonthlyAnoms$Anom_CF[leads], na.rm = TRUE)\n",
    "}\n",
    "print('Monthly means of predicted anomalies')\n",
    "yearlydat"
   ]
  },
  {
   "cell_type": "markdown",
   "metadata": {},
   "source": [
    "For these broad forecasts to reflect site-specific climatology we apply these regional anomalies to site-specific historical data. Specifically, for a point location (lat, long) historical weather data (1980 – current) is downloaded from [gridMet](http://www.climatologylab.org/gridmet.html), a daily, high-spatial resolution surface meteorological dataset, using the geoknife package. Monthly anomalies are then added (temp) or multipled (ppt) to each day in the relative month.\n"
   ]
  },
  {
   "cell_type": "code",
   "execution_count": 25,
   "metadata": {},
   "outputs": [
    {
     "name": "stdout",
     "output_type": "stream",
     "text": [
      "[1] \"summary of weather data before anomalies\"\n"
     ]
    },
    {
     "data": {
      "text/plain": [
       "     Date                Year           DOY            Tmax_C      \n",
       " Length:15341       Min.   :1979   Min.   :  1.0   Min.   :-8.912  \n",
       " Class :character   1st Qu.:1989   1st Qu.: 92.0   1st Qu.:10.202  \n",
       " Mode  :character   Median :2000   Median :183.0   Median :17.783  \n",
       "                    Mean   :2000   Mean   :183.1   Mean   :17.311  \n",
       "                    3rd Qu.:2010   3rd Qu.:274.0   3rd Qu.:24.928  \n",
       "                    Max.   :2020   Max.   :366.0   Max.   :44.891  \n",
       "     Tmin_C             PPT_cm       \n",
       " Min.   :-25.3087   Min.   :0.00000  \n",
       " 1st Qu.: -4.5787   1st Qu.:0.00000  \n",
       " Median :  0.7622   Median :0.00000  \n",
       " Mean   :  1.2504   Mean   :0.15378  \n",
       " 3rd Qu.:  7.5302   3rd Qu.:0.06728  \n",
       " Max.   : 32.2334   Max.   :9.29819  "
      ]
     },
     "metadata": {},
     "output_type": "display_data"
    },
    {
     "name": "stdout",
     "output_type": "stream",
     "text": [
      "[1] \"summary of weather data after anomalies\"\n"
     ]
    },
    {
     "data": {
      "text/plain": [
       "      Year           DOY            Tmax_C           Tmin_C        \n",
       " Min.   :1979   Min.   :  1.0   Min.   :-9.574   Min.   :-25.8342  \n",
       " 1st Qu.:1989   1st Qu.: 92.0   1st Qu.: 9.604   1st Qu.: -5.1867  \n",
       " Median :2000   Median :183.0   Median :17.265   Median :  0.2249  \n",
       " Mean   :2000   Mean   :183.1   Mean   :16.852   Mean   :  0.7905  \n",
       " 3rd Qu.:2010   3rd Qu.:274.0   3rd Qu.:24.605   3rd Qu.:  7.2407  \n",
       " Max.   :2020   Max.   :366.0   Max.   :44.668   Max.   : 32.0099  \n",
       "     PPT_cm       \n",
       " Min.   :0.00000  \n",
       " 1st Qu.:0.00000  \n",
       " Median :0.00000  \n",
       " Mean   :0.11846  \n",
       " 3rd Qu.:0.05229  \n",
       " Max.   :6.59256  "
      ]
     },
     "metadata": {},
     "output_type": "display_data"
    }
   ],
   "source": [
    "wdata <- fread('wdata.csv')\n",
    "print('summary of weather data before anomalies')\n",
    "summary(wdata)\n",
    "### Find month in wdata and merge anomalies\n",
    "wdata$MN <-  month(as.Date(strptime(paste(wdata$Year, wdata$DOY), format=\"%Y %j\"), format=\"%m-%d-%Y\"))\n",
    "wdata <- merge(wdata, yearlydat)\n",
    "\n",
    "### Temp ------------------------------------------------------------------------------------ \n",
    "wdata$Tmax_C <- wdata$Tmax_C + wdata$tempAnom\n",
    "wdata$Tmin_C <- wdata$Tmin_C + wdata$tempAnom\n",
    "\n",
    "### Precip ----------------------------------------------------------------------------\n",
    "wdata$PPT_cm <- wdata$PPT_cm * wdata$pptAnom_CF\n",
    "\n",
    "# That's it\n",
    "wdata <- wdata[,c('Year', 'DOY', 'Tmax_C', 'Tmin_C', 'PPT_cm')]\n",
    "print('summary of weather data after anomalies')\n",
    "summary(wdata)"
   ]
  },
  {
   "cell_type": "markdown",
   "metadata": {},
   "source": [
    "Next, three-year long SOILWAT2 simulations are run using this data. First year is observed data for spin up , second year is part observed and the future, third year is the rest of the future and then dummy data after today's date + 12 months. The anomalies are applied to each year in the historical record for each future (i.e. 30 years). EAch year is run individually so therre is proper spin up and not confound the accumulation of certain conditions and represent the range of possible conditions at the site. This entire process is repeated 30 times, resulting in 900 years.\n",
    "\n",
    "# Downscaling Results\n",
    "\n",
    "Let's first take a look at anomalies generated:\n",
    "\n"
   ]
  },
  {
   "cell_type": "code",
   "execution_count": null,
   "metadata": {},
   "outputs": [],
   "source": [
    "library(ggplot2)\n",
    "\n",
    "# Plot 1 - What are the final anomolies for each month (12) and run (30)?\n",
    "names(AnomSave)[4] <- 'Month'\n",
    "AnomSave$runx <- rep(1:30, each = 12)\n",
    "AnomSave2 <- melt(AnomSave, id.vars = c('Month', 'runx'))\n",
    "\n",
    "ggplot(AnomSave2) + \n",
    "  geom_line(aes(Month, value, color = as.factor(runx))) + \n",
    "  facet_wrap(variable ~ ., scales = 'free', nrow = 3) +\n",
    "  theme_bw() + theme(legend.position = 'none')\n",
    "\n",
    "AnomSave2$Month <- factor(AnomSave2$Month, levels = c(6:12, 1:4))\n",
    "\n",
    "ggplot(AnomSave2) + \n",
    "  geom_boxplot(aes(Month, value,group = Month)) + \n",
    "  facet_wrap(variable ~ ., scales = 'free', nrow = 3) +\n",
    "  theme_bw() "
   ]
  }
 ],
 "metadata": {
  "celltoolbar": "Slideshow",
  "kernelspec": {
   "display_name": "R",
   "language": "R",
   "name": "ir"
  },
  "language_info": {
   "codemirror_mode": "r",
   "file_extension": ".r",
   "mimetype": "text/x-r-source",
   "name": "R",
   "pygments_lexer": "r",
   "version": "3.6.0"
  }
 },
 "nbformat": 4,
 "nbformat_minor": 2
}
